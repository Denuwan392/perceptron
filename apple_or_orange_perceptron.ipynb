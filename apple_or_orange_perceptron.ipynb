{
  "nbformat": 4,
  "nbformat_minor": 0,
  "metadata": {
    "colab": {
      "provenance": [],
      "authorship_tag": "ABX9TyPUZkSr4IvZPnvEL9fH++GE",
      "include_colab_link": true
    },
    "kernelspec": {
      "name": "python3",
      "display_name": "Python 3"
    },
    "language_info": {
      "name": "python"
    }
  },
  "cells": [
    {
      "cell_type": "markdown",
      "metadata": {
        "id": "view-in-github",
        "colab_type": "text"
      },
      "source": [
        "<a href=\"https://colab.research.google.com/github/Denuwan392/perceptron/blob/main/apple_or_orange_perceptron.ipynb\" target=\"_parent\"><img src=\"https://colab.research.google.com/assets/colab-badge.svg\" alt=\"Open In Colab\"/></a>"
      ]
    },
    {
      "cell_type": "markdown",
      "source": [
        "# Perceptron Learning Algorithm in Python\n",
        "\n",
        "## Introduction\n",
        "This Colab notebook provides an easy-to-understand implementation of the **Perceptron Learning Algorithm** using Python. The perceptron is a fundamental machine learning model used for binary classification tasks.\n",
        "\n",
        "In this example, we classify apples (1) and oranges (0) based on two features:\n",
        "- **Size**\n",
        "- **Color Intensity**\n",
        "\n",
        "\n",
        "We will train a perceptron on this dataset and visualize the decision boundary it learns.\n",
        "\n",
        "---\n",
        "## Importing Required Libraries"
      ],
      "metadata": {
        "id": "PjywvB683PWJ"
      }
    },
    {
      "cell_type": "code",
      "source": [
        "import random\n",
        "import matplotlib.pyplot as plt\n",
        "import numpy as np"
      ],
      "metadata": {
        "id": "dcaPGy683_wN"
      },
      "execution_count": null,
      "outputs": []
    },
    {
      "cell_type": "markdown",
      "source": [
        "## Defining the Dataset\n",
        "Each sample contains two features (size and color intensity) and a corresponding label (1 for apple, 0 for orange)."
      ],
      "metadata": {
        "id": "3xWicjfE4Ek4"
      }
    },
    {
      "cell_type": "code",
      "source": [
        "x = [\n",
        "    [160, 7], [140, 5], [120, 6], [155, 8], [135, 4], [145, 7],\n",
        "    [90, 2], [110, 3], [100, 4], [95, 3], [115, 5], [130, 6],\n",
        "    [180, 9], [160, 6], [170, 8], [140, 5], [150, 7], [85, 2],\n",
        "    [120, 3], [100, 5], [110, 4], [105, 4], [125, 6], [140, 5],\n",
        "    [155, 7], [165, 8], [135, 6], [150, 7], [145, 6]\n",
        "]\n",
        "y = [1, 1, 1, 1, 1, 1, 0, 0, 0, 0, 0, 0, 1, 1, 1, 1, 1, 0, 0, 0, 0, 0, 0, 1, 1, 1, 1, 1, 1]"
      ],
      "metadata": {
        "id": "Znd1MISC4JsN"
      },
      "execution_count": null,
      "outputs": []
    },
    {
      "cell_type": "markdown",
      "source": [
        "---\n",
        "## Initializing Weights and Parameters\n",
        "The perceptron algorithm uses **random initial weights** and updates them iteratively during training."
      ],
      "metadata": {
        "id": "4dMvRzrK4OEz"
      }
    },
    {
      "cell_type": "code",
      "source": [
        "weight = random.random() * 0.1\n",
        "color_intensity = random.random() * 0.1\n",
        "b = random.random() * 0.1\n",
        "nita = 0.01  # Learning Rate\n",
        "epochs = 100  # Number of Iterations\n",
        "\n",
        "# Tracking weight changes\n",
        "weight_history = []\n",
        "color_intensity_history = []\n",
        "bias_history = []"
      ],
      "metadata": {
        "id": "EoTXZFhG4NzV"
      },
      "execution_count": null,
      "outputs": []
    },
    {
      "cell_type": "markdown",
      "source": [
        "---\n",
        "## Training the Perceptron\n",
        "The perceptron updates its weights using the following rule:\n",
        "- If the prediction is correct, do nothing.\n",
        "- If incorrect, update the weights based on the learning rate and error."
      ],
      "metadata": {
        "id": "GfQl-v594UkU"
      }
    },
    {
      "cell_type": "code",
      "source": [
        "def perceptron_train():\n",
        "    global weight, color_intensity, b\n",
        "\n",
        "    for epoch in range(epochs):\n",
        "        for i in range(len(x)):\n",
        "            x1, x2 = x[i]\n",
        "            z = x1 * weight + x2 * color_intensity + b\n",
        "            prediction = 1 if z >= 0 else 0\n",
        "\n",
        "            # Store weight history before update\n",
        "            weight_history.append(weight)\n",
        "            color_intensity_history.append(color_intensity)\n",
        "            bias_history.append(b)\n",
        "\n",
        "            if prediction != y[i]:\n",
        "                weight += nita * (y[i] - prediction) * x1\n",
        "                color_intensity += nita * (y[i] - prediction) * x2\n",
        "                b += nita * (y[i] - prediction)\n",
        "\n",
        "perceptron_train()"
      ],
      "metadata": {
        "id": "b4NAh0kO4YqU"
      },
      "execution_count": null,
      "outputs": []
    },
    {
      "cell_type": "markdown",
      "source": [
        "---\n",
        "## Making Predictions\n",
        "Once trained, we can use the perceptron to classify new data points.\n"
      ],
      "metadata": {
        "id": "C-ue7SUY4bT1"
      }
    },
    {
      "cell_type": "code",
      "source": [
        "def perceptron_predict(x_test):\n",
        "    z = x_test[0] * weight + x_test[1] * color_intensity + b\n",
        "    return \"Apple\" if z >= 0 else \"Orange\""
      ],
      "metadata": {
        "id": "PHvqcjHP4i1-"
      },
      "execution_count": null,
      "outputs": []
    },
    {
      "cell_type": "markdown",
      "source": [
        "---\n",
        "## Visualizing the Decision Boundary\n",
        "We can visualize how well the perceptron has learned to classify the data."
      ],
      "metadata": {
        "id": "sfuTnn9j4kuN"
      }
    },
    {
      "cell_type": "code",
      "source": [
        "def plot_decision_boundary():\n",
        "    x_min, x_max = min([sample[0] for sample in x]) - 10, max([sample[0] for sample in x]) + 10\n",
        "    y_min, y_max = min([sample[1] for sample in x]) - 1, max([sample[1] for sample in x]) + 1\n",
        "    xx, yy = np.meshgrid(np.linspace(x_min, x_max, 100), np.linspace(y_min, y_max, 100))\n",
        "    Z = np.array([perceptron_predict([i, j]) == \"Apple\" for i, j in zip(np.ravel(xx), np.ravel(yy))])\n",
        "    Z = Z.reshape(xx.shape)\n",
        "\n",
        "    plt.contourf(xx, yy, Z, alpha=0.3)\n",
        "    for i, sample in enumerate(x):\n",
        "        plt.scatter(sample[0], sample[1], c='red' if y[i] == 1 else 'blue', marker='o')\n",
        "\n",
        "    plt.title(\"Decision Boundary after Training\")\n",
        "    plt.xlabel(\"Feature 1 (e.g., Size)\")\n",
        "    plt.ylabel(\"Feature 2 (e.g., Color Intensity)\")\n",
        "    plt.legend([\"Apple\", \"Orange\"])\n",
        "    plt.show()\n",
        "\n",
        "plot_decision_boundary()"
      ],
      "metadata": {
        "id": "08Rku7mq4lcs"
      },
      "execution_count": null,
      "outputs": []
    },
    {
      "cell_type": "markdown",
      "source": [
        "---\n",
        "## Tracking Weight Updates\n",
        "We plot how the weights and bias change over time."
      ],
      "metadata": {
        "id": "aNjhZW5N4qc9"
      }
    },
    {
      "cell_type": "code",
      "source": [
        "def plot_weight_changes():\n",
        "    plt.figure(figsize=(8, 6))\n",
        "    plt.plot(weight_history, label=\"Weight (Size)\")\n",
        "    plt.plot(color_intensity_history, label=\"Weight (Color Intensity)\")\n",
        "    plt.plot(bias_history, label=\"Bias\")\n",
        "    plt.xlabel(\"Update Step\")\n",
        "    plt.ylabel(\"Value\")\n",
        "    plt.title(\"Weight and Bias Changes During Training\")\n",
        "    plt.legend()\n",
        "    plt.grid()\n",
        "    plt.show()\n",
        "\n",
        "plot_weight_changes()"
      ],
      "metadata": {
        "id": "obnXH-sc4tXl"
      },
      "execution_count": null,
      "outputs": []
    },
    {
      "cell_type": "markdown",
      "source": [
        "---\n",
        "## User Input for Predictions\n",
        "You can enter new values to classify an unknown sample as an Apple or Orange."
      ],
      "metadata": {
        "id": "suPMPxgh4uHE"
      }
    },
    {
      "cell_type": "code",
      "source": [
        "def user_input_and_predict():\n",
        "    while True:\n",
        "        try:\n",
        "            x1 = float(input(\"Enter feature 1 (e.g., size): \"))\n",
        "            x2 = float(input(\"Enter feature 2 (e.g., color intensity): \"))\n",
        "            print(f\"Prediction: {perceptron_predict([x1, x2])}\")\n",
        "            if input(\"Do you want to make another prediction? (yes/no): \").lower() != 'yes':\n",
        "                break\n",
        "        except ValueError:\n",
        "            print(\"Please enter valid numeric values.\")\n",
        "\n",
        "user_input_and_predict()"
      ],
      "metadata": {
        "id": "mKYmG98e4v99"
      },
      "execution_count": null,
      "outputs": []
    },
    {
      "cell_type": "markdown",
      "source": [
        "---\n",
        "## Conclusion\n",
        "This notebook demonstrates a simple yet powerful **Perceptron Learning Algorithm** for binary classification. By adjusting the **weights and bias**, the perceptron learns a decision boundary to classify apples and oranges based on their size and color intensity.\n",
        "\n",
        "**Next Steps:**\n",
        "- Try different learning rates and epochs to see how it affects learning.\n",
        "- Extend the dataset with more features for better accuracy.\n",
        "- Implement the perceptron with a different activation function (e.g., sigmoid for logistic regression)."
      ],
      "metadata": {
        "id": "ql-Gtg_b4yn8"
      }
    }
  ]
}